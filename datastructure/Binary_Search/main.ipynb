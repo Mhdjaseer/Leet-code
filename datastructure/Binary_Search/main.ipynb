{
 "cells": [
  {
   "cell_type": "code",
   "execution_count": 1,
   "id": "afef6f8e-26a6-4385-8ff6-f6ad0fcc2765",
   "metadata": {},
   "outputs": [
    {
     "name": "stdout",
     "output_type": "stream",
     "text": [
      "3\n",
      "Element is present at index 3\n"
     ]
    }
   ],
   "source": [
    "\n",
    "# it returns location of x in given array arr\n",
    "\n",
    "def binarySearch(arr,l,r,x):\n",
    "    while l<=r:\n",
    "        mid=l+(r-l)//2\n",
    "\n",
    "        # check if x is present at mid\n",
    "        if arr[mid]==x:\n",
    "            return mid\n",
    "        \n",
    "        #if x is greater, ignore left half \n",
    "        elif arr[mid]<x:\n",
    "            l=mid+1\n",
    "            print(l)\n",
    "        \n",
    "        # if x is smaller, ignore right half \n",
    "        else:\n",
    "            r=mid-1\n",
    "    \n",
    "    #If we reach here , then the element \n",
    "    # was not present\n",
    "    return -1\n",
    "\n",
    "# driver code \n",
    "if __name__=='__main__':\n",
    "    arr=[2,3,4,10,40]\n",
    "    x=10\n",
    "\n",
    "    #function call \n",
    "    result=binarySearch(arr,0,len(arr)-1,x)\n",
    "    if result != -1:\n",
    "        print(\"Element is present at index\",result)\n",
    "    else:\n",
    "        print(\"Element is not present in  array\")\n",
    "\n"
   ]
  },
  {
   "cell_type": "code",
   "execution_count": null,
   "id": "a0ac7228-2428-49d6-9917-e95fe38f7d9e",
   "metadata": {},
   "outputs": [],
   "source": []
  }
 ],
 "metadata": {
  "kernelspec": {
   "display_name": "Python 3 (ipykernel)",
   "language": "python",
   "name": "python3"
  },
  "language_info": {
   "codemirror_mode": {
    "name": "ipython",
    "version": 3
   },
   "file_extension": ".py",
   "mimetype": "text/x-python",
   "name": "python",
   "nbconvert_exporter": "python",
   "pygments_lexer": "ipython3",
   "version": "3.11.5"
  }
 },
 "nbformat": 4,
 "nbformat_minor": 5
}
